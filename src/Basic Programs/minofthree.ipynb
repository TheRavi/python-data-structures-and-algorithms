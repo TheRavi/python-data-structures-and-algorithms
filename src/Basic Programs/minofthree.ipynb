{
 "metadata": {
  "language_info": {
   "codemirror_mode": {
    "name": "ipython",
    "version": 3
   },
   "file_extension": ".py",
   "mimetype": "text/x-python",
   "name": "python",
   "nbconvert_exporter": "python",
   "pygments_lexer": "ipython3",
   "version": "3.9.5"
  },
  "orig_nbformat": 2,
  "kernelspec": {
   "name": "python395jvsc74a57bd0cc6475ff256105e9bf9b3843b0b2bb63b7483bfcdd24d2aa9750e3c67f6f274a",
   "display_name": "Python 3.9.2 64-bit"
  },
  "metadata": {
   "interpreter": {
    "hash": "cc6475ff256105e9bf9b3843b0b2bb63b7483bfcdd24d2aa9750e3c67f6f274a"
   }
  }
 },
 "nbformat": 4,
 "nbformat_minor": 2,
 "cells": [
  {
   "cell_type": "code",
   "execution_count": 1,
   "metadata": {},
   "outputs": [
    {
     "output_type": "stream",
     "name": "stdout",
     "text": [
      "1  is the smallest.\n"
     ]
    }
   ],
   "source": [
    "# Find minimum among three numbers. [nested if statements]\n",
    "\n",
    "def minofthree(num1, num2, num3):\n",
    "    min = 0;\n",
    "    if(num1 <= num2):\n",
    "        if(num1 <= num3):\n",
    "            min = num1;\n",
    "        else:\n",
    "            min = num3;\n",
    "    else:\n",
    "        if(num2 <= num3):\n",
    "            min = num2;\n",
    "        else:\n",
    "            min = num3;\n",
    "    print(min,\" is the smallest.\");\n",
    "\n",
    "minofthree(4, 1, 5);"
   ]
  },
  {
   "cell_type": "code",
   "execution_count": 2,
   "metadata": {},
   "outputs": [
    {
     "output_type": "stream",
     "name": "stdout",
     "text": [
      "1  is the smallest.\n"
     ]
    }
   ],
   "source": [
    "# Find minimum among three numbers. [if elif statements]\n",
    "\n",
    "def minofthree(num1, num2, num3):\n",
    "    min = 0;\n",
    "    if(num1 <= num2 and num1 <= num3):\n",
    "        min = num1;\n",
    "    elif(num2 <= num1 and num2 <= num3):\n",
    "        min = num2;\n",
    "    else:\n",
    "        min = num3;\n",
    "    print(min,\" is the smallest.\");\n",
    "\n",
    "minofthree(1, 1, 4);"
   ]
  },
  {
   "cell_type": "code",
   "execution_count": 3,
   "metadata": {},
   "outputs": [
    {
     "output_type": "stream",
     "name": "stdout",
     "text": [
      "1  is the smallest.\n"
     ]
    }
   ],
   "source": [
    "# Find minimum among three numbers. [list min() function]\n",
    "\n",
    "def minofthree(num1, num2, num3):\n",
    "    numlist = [num1, num2, num3];\n",
    "    minimum = min(numlist);\n",
    "    print(minimum,\" is the smallest.\");\n",
    "\n",
    "minofthree(4, 1, 5);"
   ]
  },
  {
   "cell_type": "code",
   "execution_count": 4,
   "metadata": {},
   "outputs": [
    {
     "output_type": "stream",
     "name": "stdout",
     "text": [
      "1  is the smallest.\n"
     ]
    }
   ],
   "source": [
    "# Find minimum among three numbers. [min() inbuilt function]\n",
    "\n",
    "def minofthree(num1, num2, num3):\n",
    "    minimum = min(num1, num2, num3);\n",
    "    print(minimum,\" is the smallest.\");\n",
    "\n",
    "minofthree(4, 1, 5);"
   ]
  }
 ]
}